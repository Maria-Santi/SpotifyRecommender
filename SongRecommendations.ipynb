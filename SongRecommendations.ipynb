{
 "cells": [
  {
   "cell_type": "code",
   "execution_count": null,
   "id": "1d6d5971",
   "metadata": {},
   "outputs": [],
   "source": [
    "import pandas as pd\n",
    "import numpy as np\n",
    "import json\n",
    "import re \n",
    "import sys\n",
    "import itertools\n",
    "import requests\n",
    "import difflib\n",
    "\n",
    "import matplotlib.pyplot as plt\n",
    "import plotly.express as px\n",
    "\n",
    "from sklearn.cluster import KMeans\n",
    "from sklearn.decomposition import PCA\n",
    "from sklearn.pipeline import Pipeline\n",
    "from sklearn.metrics import euclidean_distances\n",
    "from sklearn.preprocessing import MinMaxScaler\n",
    "from sklearn.preprocessing import StandardScaler\n",
    "\n",
    "from scipy.spatial.distance import cdist\n",
    "\n",
    "from collections import defaultdict\n",
    "\n",
    "# spotify web API\n",
    "#pip install spotipy \n",
    "import spotipy\n",
    "from spotipy.oauth2 import SpotifyClientCredentials\n",
    "from spotipy.oauth2 import SpotifyOAuth\n",
    "import spotipy.util as util\n",
    "\n",
    "import warnings\n",
    "warnings.filterwarnings(\"ignore\")"
   ]
  },
  {
   "cell_type": "code",
   "execution_count": null,
   "id": "de24914e",
   "metadata": {},
   "outputs": [],
   "source": [
    "%matplotlib inline"
   ]
  },
  {
   "cell_type": "code",
   "execution_count": null,
   "id": "76b437d1",
   "metadata": {},
   "outputs": [],
   "source": [
    "#Spotify for developers credentials\n",
    "client_id = '********' \n",
    "client_secret = '**********'\n",
    "username = '07maria***'\n",
    "redirect_uri = 'https://developer.spotify.com/dashboard/applications/*******8'\n",
    "\n",
    "#authorization scope based on what the user wants to do\n",
    "#Listening History: user-read-recently-played, user-top-read, user-read-playback-position\n",
    "#Playlists: playlist-modify-public, playlist-modify-private, playlist-read-private, playlist-read-colllaborative\n",
    "scope = 'playlist-modify-public user-top-read user-library-read'"
   ]
  },
  {
   "cell_type": "code",
   "execution_count": null,
   "id": "cf48047b",
   "metadata": {},
   "outputs": [],
   "source": [
    "def authenticate(redirect_uri, client_cred_manager, username, scope, client_id, client_secret):\n",
    "    \n",
    "    #authenticates to use spotify API\n",
    "    \n",
    "    #spotify api auth\n",
    "\n",
    "    sp = spotipy.Spotify(client_credentials_manager = client_cred_manager)\n",
    "    token = util.prompt_for_user_token(username, scope, client_id, client_secret, redirect_uri)\n",
    "    if token:\n",
    "        sp = spotipy.Spotify(auth = token)\n",
    "    else:\n",
    "        print(\"Can't get token for\", username)\n",
    "    return sp"
   ]
  },
  {
   "cell_type": "code",
   "execution_count": null,
   "id": "b08e9378",
   "metadata": {},
   "outputs": [],
   "source": [
    "# gets authorization token from spotify\n",
    "sp = authenticate(redirect_uri, SpotifyClientCredentials(client_id, client_secret), username, scope, client_id, client_secret)"
   ]
  },
  {
   "cell_type": "code",
   "execution_count": null,
   "id": "76b5738f",
   "metadata": {},
   "outputs": [],
   "source": [
    "# load the data.csv into a pandas dataframe\n",
    "spotify_df = pd.read_csv('https://www.dropbox.com/s/egnlgbg9nllfi4r/data_o.csv?dl=1')"
   ]
  },
  {
   "cell_type": "code",
   "execution_count": null,
   "id": "4f238195",
   "metadata": {},
   "outputs": [],
   "source": [
    "# to print pandas dataframes\n",
    "pd.set_option('display.max_columns', None)\n",
    "pd.set_option(\"max_rows\", None)"
   ]
  },
  {
   "cell_type": "code",
   "execution_count": null,
   "id": "92881fa9",
   "metadata": {},
   "outputs": [],
   "source": [
    "# change column names of the spotify_df to match the columns names of the data from spotify\n",
    "spotify_df1 = spotify_df.rename(columns = {'name': 'track_name'})\n"
   ]
  },
  {
   "cell_type": "code",
   "execution_count": null,
   "id": "6e0e34b3",
   "metadata": {},
   "outputs": [],
   "source": [
    "# DATA VISUALIZATION\n",
    "\n",
    "# K-means clustering algorithm to divide songs into clusters\n",
    "song_cluster_pipeline = Pipeline ([('scaler', StandardScaler()), ('kmeans', KMeans(n_clusters = 20, verbose = 2, n_jobs = 4))], verbose = True)\n",
    "\n",
    "X = spotify_df1.select_dtypes(np.number)\n",
    "number_cols = list(X.columns)\n",
    "song_cluster_pipeline.fit(X)\n",
    "song_cluster_labels = song_cluster_pipeline.predict(X)\n",
    "spotify_df1['cluster_label'] = song_cluster_labels"
   ]
  },
  {
   "cell_type": "code",
   "execution_count": null,
   "id": "2d770023",
   "metadata": {},
   "outputs": [],
   "source": [
    "pca_pipeline = Pipeline([('scaler', StandardScaler()), ('PCA', PCA(n_components = 2))])\n",
    "song_embedding = pca_pipeline.fit_transform(X)\n",
    "\n",
    "projection = pd.DataFrame(columns = ['x', 'y'], data = song_embedding)\n",
    "projection['title'] = spotify_df1['track_name']\n",
    "projection['cluster'] = spotify_df1['cluster_label']"
   ]
  },
  {
   "cell_type": "code",
   "execution_count": null,
   "id": "9b6ca0a9",
   "metadata": {},
   "outputs": [],
   "source": [
    "fig = px.scatter(projection, x = 'x', y = 'y', color = 'cluster', hover_data = ['x', 'y', 'title'])\n",
    "fig.show()"
   ]
  },
  {
   "cell_type": "code",
   "execution_count": null,
   "id": "2dd6f336",
   "metadata": {},
   "outputs": [],
   "source": [
    "def append_audio_features(df, spotify_auth, return_feat_df = False):\n",
    "    # fetches audio features for all songs in a dataframe and appends as rows to the dataframe\n",
    "    \n",
    "    audio_features = spotify_auth.audio_features(df[\"track_id\"])\n",
    "    \n",
    "    #catch and delete songs with no audio features\n",
    "    if None in audio_features:\n",
    "        NA_indx = [i for i, v in enumarate(audio_features) if v == None]\n",
    "        df.drop(NA_idx, inplace = True)\n",
    "        for i in NA_idx:\n",
    "            audio_features.op(i)\n",
    "        assert len(audio_features) == len(df[\"track_id\"][:])\n",
    "        feature_cols = list(audio_features[0].keys())[:-7]\n",
    "        features_list = []\n",
    "        \n",
    "        for features in audio_features:\n",
    "            try:\n",
    "                song_features = [features[col] for col in feature_cols]\n",
    "                features_list.append(song_features)\n",
    "            except TypeError:\n",
    "                pass\n",
    "        df_features = pd.DataFrame(features_list, columns = feature_cols)\n",
    "        \n",
    "        df = pd.concat([df, df_features], axis = 1)\n",
    "        \n",
    "    return df"
   ]
  },
  {
   "cell_type": "code",
   "execution_count": null,
   "id": "55dd9bbd",
   "metadata": {},
   "outputs": [],
   "source": [
    "def saved_songs_df(api_results):\n",
    "    \n",
    "    #returns a dataframe with the user's saved songs\n",
    "    \n",
    "    #create lists for df columns\n",
    "    track_name = []\n",
    "    track_id = []\n",
    "    artist = []\n",
    "    album = []\n",
    "    duration = []\n",
    "    popularity = []\n",
    "    \n",
    "    #loop through api_results\n",
    "    for i in api_results[\"items\"]:\n",
    "        try:\n",
    "            track_name.append(i[\"track\"]['name'])\n",
    "            track_id.append(i[\"track\"]['id'])\n",
    "            artist.append(i[\"track\"][\"artists\"][0][\"name\"])\n",
    "            album.append(i[\"track\"][\"album\"][\"name\"])\n",
    "            duration.append(i[\"track\"][\"duration_ms\"])\n",
    "            popularity.append(i[\"track\"][\"popularity\"])\n",
    "        except TypeError:\n",
    "            pass\n",
    "        \n",
    "        #create final df\n",
    "        df = pd.DataFrame({\"track_name\": track_name, \n",
    "                          \"track_id\": track_id,\n",
    "                          \"artists\": artist,\n",
    "                            \"album\": album,\n",
    "                          \"duration\": duration,\n",
    "                          \"popularity\": popularity})\n",
    "    return df"
   ]
  },
  {
   "cell_type": "code",
   "execution_count": null,
   "id": "22f06678",
   "metadata": {},
   "outputs": [],
   "source": [
    "def playlist_df(api_results, sp = None, append_audio = True):\n",
    "    #reads spotipy query results for a playlist and returns a dataframe\n",
    "    # .recommendations\n",
    "\n",
    "    dataf = saved_songs_df(api_results[\"tracks\"])\n",
    "\n",
    "    if append_audio == True:\n",
    "        assert sp != None, \"sp needs to be specified for appending audio features\"\n",
    "        df = append_audio_features(dataf, sp)\n",
    "    return df"
   ]
  },
  {
   "cell_type": "code",
   "execution_count": null,
   "id": "6b928667",
   "metadata": {},
   "outputs": [],
   "source": [
    "# playlist uri from spotify\n",
    "playlist_uri = 'spotify:playlist:4NJ80DuQgEz9NCdsQbPC40' \n",
    "playlist = sp.playlist(playlist_uri)\n",
    "play_df = playlist_df(playlist, sp = sp)\n",
    "play_df"
   ]
  },
  {
   "cell_type": "code",
   "execution_count": null,
   "id": "9686226a",
   "metadata": {},
   "outputs": [],
   "source": [
    "# get seed tracks for recommendations\n",
    "seed_tracks = play_df[\"track_id\"].tolist()"
   ]
  },
  {
   "cell_type": "code",
   "execution_count": null,
   "id": "38120c30",
   "metadata": {},
   "outputs": [],
   "source": [
    "# Spotify's recommendations based on playlist\n",
    "\n",
    "def spotify_recommendations(api_results):\n",
    "    #returns a dataframe with Spotify's recommended songs\n",
    "    track_name = []\n",
    "    track_id = []\n",
    "    artist = []\n",
    "    album = []\n",
    "    duration = []\n",
    "    popularity = []\n",
    "\n",
    "    for items in api_results['tracks']:\n",
    "        try:\n",
    "            track_name.append(items['name'])\n",
    "            track_id.append(items['id'])\n",
    "            artist.append(items[\"artists\"][0][\"name\"])\n",
    "            album.append(items[\"album\"][\"name\"])\n",
    "            duration.append(items[\"duration_ms\"])\n",
    "            popularity.append(items[\"popularity\"])\n",
    "        except TypeError:\n",
    "            pass\n",
    "        \n",
    "    df = pd.DataFrame({\"track_name\": track_name,\n",
    "                           \"track_id\": track_id,\n",
    "                           \"artists\": artist,\n",
    "                           \"album\": album,\n",
    "                           \"duration\": duration,\n",
    "                           \"popularity\": popularity})\n",
    "    return df"
   ]
  },
  {
   "cell_type": "code",
   "execution_count": null,
   "id": "31b33325",
   "metadata": {},
   "outputs": [],
   "source": [
    "#create recommendation df from multiple recommendations\n",
    "recomm_dfs = []\n",
    "\n",
    "for i in range(5, len(seed_tracks) +1, 5):\n",
    "    recs = sp.recommendations(seed_tracks = seed_tracks[i-5:i], limit = 10)\n",
    "    recs_df = append_audio_features(spotify_recommendations(recs), sp)\n",
    "    recomm_dfs.append(recs_df)"
   ]
  },
  {
   "cell_type": "code",
   "execution_count": null,
   "id": "12105ed8",
   "metadata": {},
   "outputs": [],
   "source": [
    "recs_df = pd.concat(recomm_dfs)\n",
    "recs_df.reset_index(drop = True, inplace = True)"
   ]
  },
  {
   "cell_type": "code",
   "execution_count": null,
   "id": "77ce0c22",
   "metadata": {},
   "outputs": [],
   "source": [
    "# Program's recommendations based on playlist\n",
    "\n",
    "# columns for the final recommendations dataframe\n",
    "num_cols = ['valence','acousticness', 'danceability', 'duration_ms', 'energy', 'explicit', 'instrumentalness', 'key', 'liveness', 'loudness', 'mode', 'popularity', 'speechiness', 'tempo', 'tempo']"
   ]
  },
  {
   "cell_type": "code",
   "execution_count": null,
   "id": "11b72e9e",
   "metadata": {},
   "outputs": [],
   "source": [
    "# recommend songs based on the user's playlist play_df\n",
    "# convert df to dictionary\n",
    "play_list = play_df.to_dict('record')"
   ]
  },
  {
   "cell_type": "code",
   "execution_count": null,
   "id": "f3086cdf",
   "metadata": {},
   "outputs": [],
   "source": [
    "def find_song(name, artists):\n",
    "    #finds songs not in spotify_df using spotify with the track's name and artists\n",
    "    \n",
    "    song_data = defaultdict()\n",
    "    r = sp.search(q= 'artist: {} track: {}'.format(artists, name), limit=1)\n",
    "    \n",
    "    \n",
    "    results = r['tracks']['items'][0]\n",
    "    track_id = results['id']\n",
    "    \n",
    "    audio_features = sp.audio_features(track_id)[0]\n",
    "    \n",
    "    song_data['track_name'] = [name]\n",
    "    song_data['artists'] = [artists]\n",
    "    song_data['explicit'] = [int(results['explicit'])]\n",
    "    song_data['duration_ms'] = [results['duration_ms']]\n",
    "    song_data['popularity'] = [results['popularity']]\n",
    "    \n",
    "    for key, value in audio_features.items():\n",
    "        song_data[key] = value\n",
    "    \n",
    "    return pd.DataFrame(song_data)"
   ]
  },
  {
   "cell_type": "code",
   "execution_count": null,
   "id": "7868b95a",
   "metadata": {},
   "outputs": [],
   "source": [
    "def get_song_data(song, spotify_df):\n",
    "    \n",
    "    try:\n",
    "        song_data = spotify_df[(spotify_df['track_name'] == song['track_name']) \n",
    "                                & (spotify_df['artists'] == song['artists'])].iloc[0]\n",
    "        return song_data\n",
    "    except IndexError:\n",
    "        return find_song(song['track_name'], song['artists'])"
   ]
  },
  {
   "cell_type": "code",
   "execution_count": null,
   "id": "3730e5e8",
   "metadata": {},
   "outputs": [],
   "source": [
    "def get_mean_vector(play_list, spotify_df):\n",
    "    \n",
    "    song_vects = []\n",
    "    \n",
    "    #only the first 45 songs in playlist as it has over 100 songs\n",
    "    for song in play_list[:45]:\n",
    "        song_data = get_song_data(song, spotify_df)\n",
    "        if song_data is None:\n",
    "            print('Warning: {} does not exist in Spotify or database'.format(song['track_name']))\n",
    "            continue\n",
    "        song_vect = song_data[num_cols].values\n",
    "        song_vects.append(song_vect)\n",
    "        \n",
    "    song_matrix = np.array(list(song_vects))\n",
    "    \n",
    "    return np.mean(song_matrix, axis = 0)"
   ]
  },
  {
   "cell_type": "code",
   "execution_count": null,
   "id": "e08de3eb",
   "metadata": {},
   "outputs": [],
   "source": [
    "def flatten_dict_list(dict_list):\n",
    "    flattened_dict = defaultdict()\n",
    "    \n",
    "    for key in dict_list[0].keys():\n",
    "        flattened_dict[key] = []\n",
    "        \n",
    "    for dictionary in dict_list:\n",
    "        for key, value in dictionary.items():\n",
    "            flattened_dict[key].append(value)\n",
    "    return flattened_dict"
   ]
  },
  {
   "cell_type": "code",
   "execution_count": null,
   "id": "56bd9a3d",
   "metadata": {},
   "outputs": [],
   "source": [
    "def recommend_songs(song_list, spotify_df, n_songs = 25):\n",
    "    \n",
    "    metadata_cols = ['track_name', 'artists', 'popularity']\n",
    "    song_dict = flatten_dict_list(song_list)\n",
    "    \n",
    "    song_center = get_mean_vector(song_list, spotify_df)\n",
    "    scaler = song_cluster_pipeline.steps[0][1]\n",
    "    scaled_data = scaler.transform(spotify_df[num_cols])\n",
    "    scaled_song_center = scaler.transform(song_center.reshape(1, -1))\n",
    "    distances = cdist(scaled_song_center, scaled_data, 'cosine')\n",
    "    index = list(np.argsort(distances)[:, :n_songs][0])\n",
    "    \n",
    "    rec_songs = spotify_df.iloc[index]\n",
    "    rec_songs = rec_songs[~rec_songs['track_name'].isin(song_dict['track_name'])]\n",
    "    \n",
    "    return rec_songs[metadata_cols].to_dict(orient = 'records')"
   ]
  },
  {
   "cell_type": "code",
   "execution_count": null,
   "id": "a1d4c3fe",
   "metadata": {},
   "outputs": [],
   "source": [
    "# recommended songs based on playlist\n",
    "fin_recs = recommend_songs(play_list, spotify_df1)"
   ]
  },
  {
   "cell_type": "code",
   "execution_count": null,
   "id": "d26858f6",
   "metadata": {},
   "outputs": [],
   "source": [
    "final_df = pd.DataFrame(fin_recs, columns = [\"track_name\", \"track_id\",\n",
    "                                          \"artists\",\n",
    "                                            \"album\",\n",
    "                                          \"duration\",\n",
    "                                          \"popularity\"])\n",
    "final_df.reset_index(drop = True, inplace = True)"
   ]
  },
  {
   "cell_type": "code",
   "execution_count": null,
   "id": "bd991e15",
   "metadata": {},
   "outputs": [],
   "source": [
    "# program's recommendations\n",
    "final_df"
   ]
  },
  {
   "cell_type": "code",
   "execution_count": null,
   "id": "e21f5e60",
   "metadata": {},
   "outputs": [],
   "source": [
    "# spotify recommendations\n",
    "recs_df"
   ]
  },
  {
   "cell_type": "code",
   "execution_count": null,
   "id": "62863254",
   "metadata": {},
   "outputs": [],
   "source": []
  }
 ],
 "metadata": {
  "kernelspec": {
   "display_name": "Python 3",
   "language": "python",
   "name": "python3"
  },
  "language_info": {
   "codemirror_mode": {
    "name": "ipython",
    "version": 3
   },
   "file_extension": ".py",
   "mimetype": "text/x-python",
   "name": "python",
   "nbconvert_exporter": "python",
   "pygments_lexer": "ipython3",
   "version": "3.7.4"
  }
 },
 "nbformat": 4,
 "nbformat_minor": 5
}
